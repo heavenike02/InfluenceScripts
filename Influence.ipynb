{
 "cells": [
  {
   "cell_type": "markdown",
   "metadata": {},
   "source": [
    "Run block to Install pandas "
   ]
  },
  {
   "cell_type": "code",
   "execution_count": null,
   "metadata": {},
   "outputs": [],
   "source": [
    "%pip install pandas"
   ]
  },
  {
   "cell_type": "markdown",
   "metadata": {},
   "source": [
    "How to clean data from https://sapit-iex-prod-lizard-customer-influence-workbench-ciw-6f02fb4d.cfapps.eu10-004.hana.ondemand.com/cccissessionowner/index.html#/DetailView/293,I311255\n",
    "\n",
    "Change CSV path and run "
   ]
  },
  {
   "cell_type": "code",
   "execution_count": null,
   "metadata": {},
   "outputs": [],
   "source": [
    "import pandas as pd\n",
    "\n",
    "def clean_data(df):\n",
    "    # Drop column: 'FBA Comments'\n",
    "    df = df.drop(columns=['FBA Comments'])\n",
    "    # Drop columns: 'FBA Status', 'User ID', 'Internal Project ID'\n",
    "    df = df.drop(columns=['FBA Status', 'User ID', 'Internal Project ID'])\n",
    "    # Drop columns: 'Is Submitter ?', 'ERP Customer No.' and 6 other columns\n",
    "    df = df.drop(columns=['Is Submitter ?', 'ERP Customer No.', 'Account Type', 'Voter Zip Code', 'Voter City', 'Voter Street', 'Voter Email', 'Voter Name'])\n",
    "    # Drop column: 'INM Project Name'\n",
    "    df = df.drop(columns=['INM Project Name'])\n",
    "    # Drop columns: 'Coach Name', 'Category'\n",
    "    df = df.drop(columns=['Coach Name', 'Category'])\n",
    "    # Drop columns: 'IR Link', 'IR Title'\n",
    "    df = df.drop(columns=['IR Link', 'IR Title'])\n",
    "    # Drop columns: 'Decision Reason', 'Reference'\n",
    "    df = df.drop(columns=['Decision Reason', 'Reference'])\n",
    "    # Drop column: 'Views'\n",
    "    df = df.drop(columns=['Views'])\n",
    "    # Drop column: 'Customer Votes'\n",
    "    df = df.drop(columns=['Customer Votes'])\n",
    "    # Drop column: 'Last Status Change Date'\n",
    "    df = df.drop(columns=['Last Status Change Date'])\n",
    "    # Drop column: 'Status'\n",
    "    df = df.drop(columns=['Status'])\n",
    "    # Drop column: 'Reason Comments'\n",
    "    df = df.drop(columns=['Reason Comments'])\n",
    "    # Change column type to datetime64[ns] for column: 'Voted Date'\n",
    "    df = df.astype({'Voted Date': 'datetime64[ns]'})\n",
    "    # Change column type to string for column: 'Voter Company'\n",
    "    df = df.astype({'Voter Company': 'string'})\n",
    "    # Drop duplicate rows in columns: 'IR ID', 'Voter Company'\n",
    "    df = df.drop_duplicates(subset=['IR ID', 'Voter Company'])\n",
    "    # Change column type to category for column: 'Voter Company'\n",
    "    df = df.astype({'Voter Company': 'category'})\n",
    "    return df\n",
    "\n",
    "# Loaded variable 'df' from URI: \n",
    "df = pd.read_csv(r'c:\\\\Users\\\\I586445\\\\OneDrive - National University of Ireland, Galway\\\\Documents\\\\InfluenceScripts\\\\Copy of Improvements_and_Votes(18-06-2024, 13_35).csv')\n",
    "\n",
    "df_clean = clean_data(df.copy())\n",
    "df_clean.head()"
   ]
  },
  {
   "cell_type": "markdown",
   "metadata": {},
   "source": [
    "How to create consumer Foreign keys to connect Jira to influence "
   ]
  },
  {
   "cell_type": "code",
   "execution_count": null,
   "metadata": {},
   "outputs": [],
   "source": [
    "import csv\n",
    "import re\n",
    "import os\n",
    "\n",
    "# Specify the path to your CSV file\n",
    "csv_file_path = r\"C:\\Users\\I586445\\Downloads\\17-06 Model Update\\FPA34 17_06.csv\"\n",
    "# Construct the output file path\n",
    "output_folder = os.path.dirname(csv_file_path)\n",
    "output_file_path = os.path.join(output_folder, \"Consumer Foreign keys.csv\")\n",
    "\n",
    "# Open the CSV file for reading and the output file for writing\n",
    "with open(csv_file_path, 'r', encoding='utf-8-sig') as file, open(output_file_path, 'w', newline='', encoding='utf-8') as output_file:\n",
    "    # Create a CSV reader object\n",
    "    csv_reader = csv.reader(file)\n",
    "    # Create a CSV writer object\n",
    "    csv_writer = csv.writer(output_file)\n",
    "    \n",
    "    # Write the header row with selected columns\n",
    "    csv_writer.writerow([\"ISSUEKEY\", \"CONSUMER\"])\n",
    "    \n",
    "    # Process the header row to get the column indices\n",
    "    header = next(csv_reader)\n",
    "    column_indices = {}\n",
    "    for column_name in [\"ISSUEKEY\", \"CONSUMER\"]:\n",
    "        try:\n",
    "            column_indices[column_name] = header.index(column_name)\n",
    "        except ValueError:\n",
    "            # Handle the case if any of the required columns are not found in the header\n",
    "            print(f\"Column '{column_name}' not found in the CSV file.\")\n",
    "            exit(1)\n",
    "\n",
    "    # Process each row and write selected columns to the output file\n",
    "    for row in csv_reader:\n",
    "        issue_key = row[column_indices[\"ISSUEKEY\"]]\n",
    "        consumer_digits = row[column_indices[\"CONSUMER\"]]\n",
    "        \n",
    "    \n",
    "        # Extract the \"Consumer Digits\" from the \"Custom field (Consumer)\" column using regex\n",
    "        matches_consumer = re.findall(r\"\\bhttps://influence.sap.com.*?(\\d{6})\", consumer_digits)\n",
    "        \n",
    "        # If matches are found, create a new row for each match\n",
    "        if matches_consumer:\n",
    "            for match in matches_consumer:\n",
    "                # Create a new row with details from the original row and the corresponding match\n",
    "                new_row = [issue_key, match]\n",
    "                csv_writer.writerow(new_row)\n",
    "        else:\n",
    "            # If no matches found, create a new row with details from the original row and an empty \"Consumer Digits\"\n",
    "            new_row = [issue_key, \"\"]\n",
    "            csv_writer.writerow(new_row)\n",
    "\n",
    "print(\"Code executed successfully.\")\n"
   ]
  }
 ],
 "metadata": {
  "kernelspec": {
   "display_name": "vecs",
   "language": "python",
   "name": "python3"
  },
  "language_info": {
   "name": "python",
   "version": "3.11.9"
  }
 },
 "nbformat": 4,
 "nbformat_minor": 2
}
